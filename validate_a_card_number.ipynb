{
  "nbformat": 4,
  "nbformat_minor": 0,
  "metadata": {
    "colab": {
      "name": "validate a card number.ipynb",
      "provenance": []
    },
    "kernelspec": {
      "name": "python3",
      "display_name": "Python 3"
    },
    "language_info": {
      "name": "python"
    }
  },
  "cells": [
    {
      "cell_type": "code",
      "execution_count": 12,
      "metadata": {
        "colab": {
          "base_uri": "https://localhost:8080/"
        },
        "id": "oiK9AJKFqW96",
        "outputId": "a47b95d2-1465-446f-8ea6-a6b000220a7d"
      },
      "outputs": [
        {
          "output_type": "stream",
          "name": "stdout",
          "text": [
            "Enter Card Number: 1234123412341234\n",
            "Invalid Card Number\n"
          ]
        }
      ],
      "source": [
        "def ValidCardNumber(card_number):\n",
        "    card_number_list = []\n",
        "    for i in card_number:\n",
        "        i = int(i)\n",
        "        card_number_list.append(i)\n",
        "    sumOdd = 0\n",
        "    sumEven = 0\n",
        "    for i in range(0,8):\n",
        "\t    even = 2 * i\n",
        "\t    odd = even + 1\n",
        "\t    position_ODD, position_EVEN = card_number_list[odd], card_number_list[even]\n",
        "\t    position_EVEN *= 2\n",
        "\t    position_EVEN1, position_EVEN2 = position_EVEN % 10, position_EVEN // 10\n",
        "\t    position_EVEN = position_EVEN1 + position_EVEN2\n",
        "\t    sumEven += position_EVEN\n",
        "\t    sumOdd += position_ODD\n",
        "\t    Overall = sumOdd + sumEven\n",
        "    if Overall % 10 == 0:\n",
        "        for j in card_number_list:\n",
        "            print(j, end=\" \")\n",
        "    else:\n",
        "        print(\"Invalid Card Number\")\n",
        "\n",
        "def main():\n",
        "    card_number = input(\"Enter Card Number: \")\n",
        "    return(ValidCardNumber(card_number))\n",
        "main()"
      ]
    }
  ]
}