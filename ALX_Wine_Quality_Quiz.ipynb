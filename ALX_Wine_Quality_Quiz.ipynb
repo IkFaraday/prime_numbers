{
  "nbformat": 4,
  "nbformat_minor": 0,
  "metadata": {
    "colab": {
      "name": "ALX Wine Quality Quiz.ipynb",
      "provenance": []
    },
    "kernelspec": {
      "name": "python3",
      "display_name": "Python 3"
    },
    "language_info": {
      "name": "python"
    }
  },
  "cells": [
    {
      "cell_type": "code",
      "execution_count": 2,
      "metadata": {
        "id": "HPTl2Ap2CQIA"
      },
      "outputs": [],
      "source": [
        "#Loading the dataframe\n",
        "import pandas as pd\n",
        "df_r = pd.read_csv(\"/content/drive/MyDrive/winequality/winequality-red.csv\", sep=\";\")\n",
        "df_w = pd.read_csv(\"/content/drive/MyDrive/winequality/winequality-white.csv\", sep=\";\")"
      ]
    },
    {
      "cell_type": "code",
      "source": [
        "#Loading first 5 rows for red wine\n",
        "df_r.head(6)"
      ],
      "metadata": {
        "id": "aaFodxXaR76r"
      },
      "execution_count": null,
      "outputs": []
    },
    {
      "cell_type": "code",
      "source": [
        "#loading first five rows for white wine\n",
        "df_w.head(6)"
      ],
      "metadata": {
        "id": "D-W_pCIWT1h1"
      },
      "execution_count": null,
      "outputs": []
    },
    {
      "cell_type": "code",
      "source": [
        "#investigating red wine data\n",
        "df_r.info()"
      ],
      "metadata": {
        "id": "8o4YKehCUfer"
      },
      "execution_count": null,
      "outputs": []
    },
    {
      "cell_type": "code",
      "source": [
        "#Investigating white wine data\n",
        "df_w.info()"
      ],
      "metadata": {
        "id": "fnQvPAIgUi0i"
      },
      "execution_count": null,
      "outputs": []
    },
    {
      "cell_type": "code",
      "source": [
        "#Checking for red wine missing values\n",
        "df_r.isna().sum()"
      ],
      "metadata": {
        "id": "P8i-O6DWVnLc"
      },
      "execution_count": null,
      "outputs": []
    },
    {
      "cell_type": "code",
      "source": [
        "#Checking for white wine missing values\n",
        "df_w.isna().sum()"
      ],
      "metadata": {
        "id": "9a5wafRxWHkq"
      },
      "execution_count": null,
      "outputs": []
    },
    {
      "cell_type": "code",
      "source": [
        "#Finding duplicate rows in white wine\n",
        "df_w.duplicated().sum()"
      ],
      "metadata": {
        "id": "IjiT04UjWSU5"
      },
      "execution_count": null,
      "outputs": []
    },
    {
      "cell_type": "code",
      "source": [
        "#Finding duplicate rows in red wine\n",
        "df_r.duplicated().sum()"
      ],
      "metadata": {
        "id": "EJe-kB6vcx5g"
      },
      "execution_count": null,
      "outputs": []
    },
    {
      "cell_type": "code",
      "source": [
        "#Find unique values for red wine\n",
        "df_r.nunique(dropna=True)"
      ],
      "metadata": {
        "id": "AQ3azPPMWriz"
      },
      "execution_count": null,
      "outputs": []
    },
    {
      "cell_type": "code",
      "source": [
        "#Finding unique values for white wine\n",
        "df_w.nunique(dropna=True)"
      ],
      "metadata": {
        "id": "IDda3DtjXy0t"
      },
      "execution_count": null,
      "outputs": []
    },
    {
      "cell_type": "code",
      "source": [
        "#mean of red wine density\n",
        "df_r[\"density\"].mean()"
      ],
      "metadata": {
        "id": "gqMmL0iDcD4V"
      },
      "execution_count": null,
      "outputs": []
    },
    {
      "cell_type": "code",
      "source": [
        "#merged dataset red wine and white wine to for wine_df\n",
        "import numpy as np\n",
        "colour_red = [[\"red\"]]\n",
        "colour_white = [[\"white\"]]\n",
        "colour_red = np.repeat(colour_red, 1599, axis = 0)\n",
        "colour_white = np.repeat(colour_white, 4898, axis = 0)\n",
        "df_r[\"colour\"] = colour_red\n",
        "df_w[\"colour\"] = colour_white\n",
        "wine_df = df_r.append(df_w, ignore_index = True)\n",
        "wine_df.info()"
      ],
      "metadata": {
        "id": "oegD748kewBP"
      },
      "execution_count": null,
      "outputs": []
    },
    {
      "cell_type": "code",
      "source": [
        "#Histogram of Fixed Acidity\n",
        "ind = wine_df[\"total sulfur dioxide\"].value_counts().index\n",
        "wine_df[\"fixed acidity\"].plot(kind=\"hist\", figsize=(8,8))"
      ],
      "metadata": {
        "id": "yh58Wk2eLxSi"
      },
      "execution_count": null,
      "outputs": []
    },
    {
      "cell_type": "code",
      "source": [
        "#Histogram of total sulfur dioxide\n",
        "ind = wine_df[\"total sulfur dioxide\"].value_counts().index\n",
        "wine_df[\"total sulfur dioxide\"].plot(kind=\"hist\", figsize=(8,8))"
      ],
      "metadata": {
        "id": "-gi2AL4WL5S1"
      },
      "execution_count": null,
      "outputs": []
    },
    {
      "cell_type": "code",
      "source": [
        "#Histogram of pH\n",
        "ind = wine_df[\"total sulfur dioxide\"].value_counts().index\n",
        "wine_df[\"pH\"].plot(kind=\"hist\", figsize=(8,8))"
      ],
      "metadata": {
        "id": "OtX06uH4NgXZ"
      },
      "execution_count": null,
      "outputs": []
    },
    {
      "cell_type": "code",
      "source": [
        "#Histogram of alcohol\n",
        "ind = wine_df[\"total sulfur dioxide\"].value_counts().index\n",
        "wine_df[\"alcohol\"].plot(kind=\"hist\", figsize=(8,8))"
      ],
      "metadata": {
        "id": "sFZMf_SKNjtc"
      },
      "execution_count": null,
      "outputs": []
    },
    {
      "cell_type": "code",
      "source": [
        "#Scatter plot of quality against volatile acidity\n",
        "ind = wine_df[\"total sulfur dioxide\"].value_counts().index\n",
        "wine_df.plot(x = \"volatile acidity\", y = \"quality\", kind = \"scatter\", figsize=(8,8))"
      ],
      "metadata": {
        "id": "K-otoFCuOqbK"
      },
      "execution_count": null,
      "outputs": []
    },
    {
      "cell_type": "code",
      "source": [
        "#Scatter plot of quality against residual sugar\n",
        "ind = wine_df[\"total sulfur dioxide\"].value_counts().index\n",
        "wine_df.plot(x = \"residual sugar\", y = \"quality\", kind = \"scatter\", figsize=(8,8))"
      ],
      "metadata": {
        "id": "6cKfe9LXPev5"
      },
      "execution_count": null,
      "outputs": []
    },
    {
      "cell_type": "code",
      "source": [
        "#Scatter plot of quality against pH\n",
        "ind = wine_df[\"total sulfur dioxide\"].value_counts().index\n",
        "wine_df.plot(x = \"pH\", y = \"quality\", kind = \"scatter\", figsize=(8,8))"
      ],
      "metadata": {
        "id": "8Ql7URrfPG9u"
      },
      "execution_count": null,
      "outputs": []
    },
    {
      "cell_type": "code",
      "source": [
        "#Scatter plot of quality against alcohol\n",
        "ind = wine_df[\"total sulfur dioxide\"].value_counts().index\n",
        "wine_df.plot(x = \"alcohol\", y = \"quality\", kind = \"scatter\", figsize=(8,8))"
      ],
      "metadata": {
        "id": "ickLU0KDPrXu"
      },
      "execution_count": null,
      "outputs": []
    },
    {
      "cell_type": "code",
      "source": [
        "#Groupby quality\n",
        "wine_df.groupby(\"colour\").mean()"
      ],
      "metadata": {
        "id": "etEAdqHRPueu"
      },
      "execution_count": null,
      "outputs": []
    },
    {
      "cell_type": "code",
      "source": [
        "#Creating a new column called acidity_levels using the median pH and adding it to the dataset\n",
        "import pandas as pd\n",
        "bin_edges = [2.720000, 3.110000, 3.210000, 3.320000, 4.010000]\n",
        "bin_names = [\"High\", \"Moderately_High\", \"Medium\", \"Low\"]\n",
        "wine_df[\"acidity_levels\"] = pd.cut(wine_df['pH'], bin_edges, labels=bin_names)\n",
        "wine_df.head(7)"
      ],
      "metadata": {
        "id": "Pu_cgGPqO7qh"
      },
      "execution_count": null,
      "outputs": []
    },
    {
      "cell_type": "code",
      "source": [
        "#investigating the wine_df dataset\n",
        "wine_df.describe()"
      ],
      "metadata": {
        "id": "oYaab4p6SLMS"
      },
      "execution_count": null,
      "outputs": []
    },
    {
      "cell_type": "code",
      "source": [
        "#using the query function to get wine with better ratings\n",
        "Low_alcohol = wine_df.query(\"alcohol < 10.3\")\n",
        "High_alcohol = wine_df.query(\"alcohol >= 10.3\")\n",
        "High_alcohol.mean()"
      ],
      "metadata": {
        "id": "AOJMl7qjWZuo"
      },
      "execution_count": null,
      "outputs": []
    },
    {
      "cell_type": "code",
      "source": [
        "Low_sugar = wine_df.query(\"residual sugar < 3\")\n",
        "High_sugar = wine_df.query(\"residual sugar>= 3.0\")\n",
        "High_sugar.mean()"
      ],
      "metadata": {
        "id": "Ytofa7ljcsYX"
      },
      "execution_count": null,
      "outputs": []
    },
    {
      "cell_type": "code",
      "source": [
        "#Plot red and white wine based on quality\n",
        "import matplotlib.pyplot as plt\n",
        "%matplotlib inline\n",
        "import seaborn as sns\n",
        "colours = ['pink', 'grey']\n",
        "wine_df.groupby(\"colour\")[\"quality\"].mean().plot(kind = \"bar\", figsize = (8,8), title = \"Average Wine Quality by Colour\", color = colours)\n",
        "plt.xlabel(\"Colour\", Fontsize = 12)\n",
        "plt.ylabel(\"Quality\", Fontsize = 12)"
      ],
      "metadata": {
        "id": "Vk_Dvunxd75E"
      },
      "execution_count": null,
      "outputs": []
    },
    {
      "cell_type": "code",
      "source": [
        "import numpy as np\n",
        "import pandas as pd\n",
        "import matplotlib.pyplot as plt\n",
        "% matplotlib inline\n",
        "import seaborn as sns\n",
        "sns.set_style('darkgrid')\n",
        "wine_df['pH'].head(16)"
      ],
      "metadata": {
        "id": "pvZ9hvu5hvOd"
      },
      "execution_count": null,
      "outputs": []
    },
    {
      "cell_type": "code",
      "source": [
        "#Using the count() function to count colour and quality in the dataset\n",
        "colour_counts = wine_df.groupby(['colour', 'quality']).count()[\"pH\"] #we picked one column it is not necessary though all columns have the same values\n",
        "colour_counts"
      ],
      "metadata": {
        "id": "Bch8dDTMvNkl"
      },
      "execution_count": null,
      "outputs": []
    },
    {
      "cell_type": "code",
      "source": [
        "#Using the count() function to get total amount of colour\n",
        "total_colour = wine_df.groupby(\"colour\").count()['pH']\n",
        "total_colour"
      ],
      "metadata": {
        "id": "h0rgSbgAu9rE"
      },
      "execution_count": null,
      "outputs": []
    },
    {
      "cell_type": "code",
      "source": [
        "#Get ratio of red & white colour counts to total red & white colour counts(proportion)\n",
        "red_proportion = colour_counts['red']/total_colour['red'] \n",
        "white_proportion = colour_counts['white']/total_colour['white'] \n",
        "red_proportion['9'] = 0\n",
        "red_proportion"
      ],
      "metadata": {
        "id": "wxHBTEpiwX1P"
      },
      "execution_count": null,
      "outputs": []
    },
    {
      "cell_type": "code",
      "source": [
        "ind = np.arange(len(red_proportion)) #range for the x-axis\n",
        "width = 0.35 #width of bar chart"
      ],
      "metadata": {
        "id": "f_CxtcHwau2B"
      },
      "execution_count": 23,
      "outputs": []
    },
    {
      "cell_type": "code",
      "source": [
        "#Bar chart visualization for red and white wine\n",
        "red_bars = plt.bar(ind, red_proportion, width, color='r', alpha=.7, label='Red Wine')\n",
        "white_bars = plt.bar(ind + width, white_proportion, width, color = \"w\", alpha=0.7, label=\"White wine\")\n",
        "plt.xlabel(\"Quality\")\n",
        "plt.ylabel(\"Proportion\")\n",
        "plt.title(\"Proportion by wine colour & Quality\")\n",
        "locations = ind + width / 2\n",
        "labels = ['3', '4', '5', '6', '7', '8', '9']\n",
        "plt.xticks(locations, labels)\n",
        "plt.legend()"
      ],
      "metadata": {
        "colab": {
          "base_uri": "https://localhost:8080/",
          "height": 313
        },
        "id": "9DdzHtplKt2m",
        "outputId": "3ec46b14-3b14-44d0-9cb2-ababd224570f"
      },
      "execution_count": 26,
      "outputs": [
        {
          "output_type": "execute_result",
          "data": {
            "text/plain": [
              "<matplotlib.legend.Legend at 0x7f8f15c883d0>"
            ]
          },
          "metadata": {},
          "execution_count": 26
        },
        {
          "output_type": "display_data",
          "data": {
            "text/plain": [
              "<Figure size 432x288 with 1 Axes>"
            ],
            "image/png": "[encoded data removed]"
          },
          "metadata": {}
        }
      ]
    }
  ]
}